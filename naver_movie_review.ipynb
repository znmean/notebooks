{
 "cells": [
  {
   "cell_type": "markdown",
   "metadata": {},
   "source": [
    "## 라이브러리는 대충 이런걸 씁니다."
   ]
  },
  {
   "cell_type": "code",
   "execution_count": 1,
   "metadata": {},
   "outputs": [],
   "source": [
    "import numpy as np\n",
    "import matplotlib.pyplot as plt\n",
    "import pandas as pd\n",
    "import konlpy"
   ]
  },
  {
   "cell_type": "code",
   "execution_count": 2,
   "metadata": {},
   "outputs": [
    {
     "data": {
      "text/plain": [
       "'1.12.0'"
      ]
     },
     "execution_count": 2,
     "metadata": {},
     "output_type": "execute_result"
    }
   ],
   "source": [
    "%matplotlib inline\n",
    "import tensorflow as tf\n",
    "tf.__version__"
   ]
  },
  {
   "cell_type": "markdown",
   "metadata": {},
   "source": [
    "# 데이터 읽기 / 확인"
   ]
  },
  {
   "cell_type": "code",
   "execution_count": 9,
   "metadata": {},
   "outputs": [],
   "source": [
    "df = pd.read_csv('nsmc/ratings_train.txt', sep='\\t')"
   ]
  },
  {
   "cell_type": "code",
   "execution_count": 97,
   "metadata": {},
   "outputs": [],
   "source": [
    "df_test = pd.read_csv('nsmc/ratings_test.txt', sep='\\t')"
   ]
  },
  {
   "cell_type": "code",
   "execution_count": 10,
   "metadata": {},
   "outputs": [
    {
     "data": {
      "text/html": [
       "<div>\n",
       "<style scoped>\n",
       "    .dataframe tbody tr th:only-of-type {\n",
       "        vertical-align: middle;\n",
       "    }\n",
       "\n",
       "    .dataframe tbody tr th {\n",
       "        vertical-align: top;\n",
       "    }\n",
       "\n",
       "    .dataframe thead th {\n",
       "        text-align: right;\n",
       "    }\n",
       "</style>\n",
       "<table border=\"1\" class=\"dataframe\">\n",
       "  <thead>\n",
       "    <tr style=\"text-align: right;\">\n",
       "      <th></th>\n",
       "      <th>id</th>\n",
       "      <th>document</th>\n",
       "      <th>label</th>\n",
       "    </tr>\n",
       "  </thead>\n",
       "  <tbody>\n",
       "    <tr>\n",
       "      <th>0</th>\n",
       "      <td>9976970</td>\n",
       "      <td>아 더빙.. 진짜 짜증나네요 목소리</td>\n",
       "      <td>0</td>\n",
       "    </tr>\n",
       "    <tr>\n",
       "      <th>1</th>\n",
       "      <td>3819312</td>\n",
       "      <td>흠...포스터보고 초딩영화줄....오버연기조차 가볍지 않구나</td>\n",
       "      <td>1</td>\n",
       "    </tr>\n",
       "    <tr>\n",
       "      <th>2</th>\n",
       "      <td>10265843</td>\n",
       "      <td>너무재밓었다그래서보는것을추천한다</td>\n",
       "      <td>0</td>\n",
       "    </tr>\n",
       "  </tbody>\n",
       "</table>\n",
       "</div>"
      ],
      "text/plain": [
       "         id                           document  label\n",
       "0   9976970                아 더빙.. 진짜 짜증나네요 목소리      0\n",
       "1   3819312  흠...포스터보고 초딩영화줄....오버연기조차 가볍지 않구나      1\n",
       "2  10265843                  너무재밓었다그래서보는것을추천한다      0"
      ]
     },
     "execution_count": 10,
     "metadata": {},
     "output_type": "execute_result"
    }
   ],
   "source": [
    "df[:3]"
   ]
  },
  {
   "cell_type": "code",
   "execution_count": 11,
   "metadata": {},
   "outputs": [
    {
     "name": "stdout",
     "output_type": "stream",
     "text": [
      "<class 'pandas.core.frame.DataFrame'>\n",
      "RangeIndex: 150000 entries, 0 to 149999\n",
      "Data columns (total 3 columns):\n",
      "id          150000 non-null int64\n",
      "document    149995 non-null object\n",
      "label       150000 non-null int64\n",
      "dtypes: int64(2), object(1)\n",
      "memory usage: 3.4+ MB\n"
     ]
    }
   ],
   "source": [
    "df.info()"
   ]
  },
  {
   "cell_type": "markdown",
   "metadata": {},
   "source": [
    "#### 내용 중 비어있는 게 5개 있네요. 일단 삭제합니다."
   ]
  },
  {
   "cell_type": "code",
   "execution_count": 14,
   "metadata": {},
   "outputs": [],
   "source": [
    "df = df.dropna().reset_index(drop=True)"
   ]
  },
  {
   "cell_type": "code",
   "execution_count": 98,
   "metadata": {},
   "outputs": [],
   "source": [
    "df_test = df_test.dropna().reset_index(drop=True)"
   ]
  },
  {
   "cell_type": "code",
   "execution_count": 15,
   "metadata": {},
   "outputs": [
    {
     "name": "stdout",
     "output_type": "stream",
     "text": [
      "<class 'pandas.core.frame.DataFrame'>\n",
      "RangeIndex: 149995 entries, 0 to 149994\n",
      "Data columns (total 3 columns):\n",
      "id          149995 non-null int64\n",
      "document    149995 non-null object\n",
      "label       149995 non-null int64\n",
      "dtypes: int64(2), object(1)\n",
      "memory usage: 3.4+ MB\n"
     ]
    }
   ],
   "source": [
    "df.info()"
   ]
  },
  {
   "cell_type": "markdown",
   "metadata": {},
   "source": [
    "#### 클래스 임밸런스가 크지 않은 걸 확인합니다."
   ]
  },
  {
   "cell_type": "code",
   "execution_count": 17,
   "metadata": {},
   "outputs": [
    {
     "data": {
      "text/plain": [
       "0    75170\n",
       "1    74825\n",
       "Name: label, dtype: int64"
      ]
     },
     "execution_count": 17,
     "metadata": {},
     "output_type": "execute_result"
    }
   ],
   "source": [
    "df.label.value_counts()"
   ]
  },
  {
   "cell_type": "code",
   "execution_count": 19,
   "metadata": {},
   "outputs": [
    {
     "data": {
      "text/plain": [
       "<matplotlib.axes._subplots.AxesSubplot at 0x7fe2e07c3978>"
      ]
     },
     "execution_count": 19,
     "metadata": {},
     "output_type": "execute_result"
    },
    {
     "data": {
      "image/png": "[encoded data removed]",
      "text/plain": [
       "<Figure size 432x288 with 1 Axes>"
      ]
     },
     "metadata": {
      "needs_background": "light"
     },
     "output_type": "display_data"
    }
   ],
   "source": [
    "df.document.apply(len).hist(bins=50)"
   ]
  },
  {
   "cell_type": "code",
   "execution_count": 21,
   "metadata": {},
   "outputs": [
    {
     "data": {
      "text/plain": [
       "id          1678\n",
       "document    1678\n",
       "label       1678\n",
       "dtype: int64"
      ]
     },
     "execution_count": 21,
     "metadata": {},
     "output_type": "execute_result"
    }
   ],
   "source": [
    "df[df.document.apply(len) < 3].count()"
   ]
  },
  {
   "cell_type": "markdown",
   "metadata": {},
   "source": [
    "#### 글자수가 아주 적은 것(2글자 이하)가 좀 있는데요. 일단 POS태깅하고 봅시다."
   ]
  },
  {
   "cell_type": "markdown",
   "metadata": {},
   "source": [
    "# POS"
   ]
  },
  {
   "cell_type": "code",
   "execution_count": 25,
   "metadata": {},
   "outputs": [],
   "source": [
    "from konlpy.tag import Okt"
   ]
  },
  {
   "cell_type": "code",
   "execution_count": 28,
   "metadata": {},
   "outputs": [],
   "source": [
    "tagger = Okt()"
   ]
  },
  {
   "cell_type": "markdown",
   "metadata": {},
   "source": [
    "#### POS태깅은 아래처럼 하면 됩니다. 아주 잘 되진 않습니다만 나눠지긴 한다는데에 의의를 둡시다."
   ]
  },
  {
   "cell_type": "code",
   "execution_count": 30,
   "metadata": {},
   "outputs": [
    {
     "data": {
      "text/plain": [
       "[('아', 'Exclamation'),\n",
       " ('더빙', 'Noun'),\n",
       " ('..', 'Punctuation'),\n",
       " ('진짜', 'Noun'),\n",
       " ('짜증나네요', 'Adjective'),\n",
       " ('목소리', 'Noun')]"
      ]
     },
     "execution_count": 30,
     "metadata": {},
     "output_type": "execute_result"
    }
   ],
   "source": [
    "posd = tagger.pos(df.loc[0].document)\n",
    "posd"
   ]
  },
  {
   "cell_type": "markdown",
   "metadata": {},
   "source": [
    "#### 케라스의 토크나이저는 \" \"를 기준으로 토크나이징을 합니다. 문자열 구성을 해줘야 하는데요.\n",
    "#### 1) 이렇게 하거나:"
   ]
  },
  {
   "cell_type": "code",
   "execution_count": 32,
   "metadata": {},
   "outputs": [
    {
     "data": {
      "text/plain": [
       "'아 더빙 .. 진짜 짜증나네요 목소리'"
      ]
     },
     "execution_count": 32,
     "metadata": {},
     "output_type": "execute_result"
    }
   ],
   "source": [
    "' '.join([i[0] for i in posd])"
   ]
  },
  {
   "cell_type": "markdown",
   "metadata": {},
   "source": [
    "#### 2) 혹은 이렇게 합니다."
   ]
  },
  {
   "cell_type": "code",
   "execution_count": 33,
   "metadata": {},
   "outputs": [
    {
     "data": {
      "text/plain": [
       "'아/Exclamation 더빙/Noun ../Punctuation 진짜/Noun 짜증나네요/Adjective 목소리/Noun'"
      ]
     },
     "execution_count": 33,
     "metadata": {},
     "output_type": "execute_result"
    }
   ],
   "source": [
    "' '.join([i[0]+\"/\"+i[1] for i in posd])"
   ]
  },
  {
   "cell_type": "markdown",
   "metadata": {},
   "source": [
    "#### 3) 혹은 이렇게 특정 품사를 빼줄 수도 있겠죠"
   ]
  },
  {
   "cell_type": "code",
   "execution_count": 34,
   "metadata": {},
   "outputs": [
    {
     "data": {
      "text/plain": [
       "'아/Exclamation 더빙/Noun 진짜/Noun 짜증나네요/Adjective 목소리/Noun'"
      ]
     },
     "execution_count": 34,
     "metadata": {},
     "output_type": "execute_result"
    }
   ],
   "source": [
    "' '.join([i[0]+\"/\"+i[1] for i in posd if i[1] not in ('Punctuation')])"
   ]
  },
  {
   "cell_type": "markdown",
   "metadata": {},
   "source": [
    "#### 일단 쉽게쉽게 하기 위해서 1번을 합니다."
   ]
  },
  {
   "cell_type": "code",
   "execution_count": 38,
   "metadata": {},
   "outputs": [],
   "source": [
    "def pos_tagged(s, tagger):\n",
    "    return ' '.join([i[0] for i in tagger.pos(s)])"
   ]
  },
  {
   "cell_type": "code",
   "execution_count": 39,
   "metadata": {},
   "outputs": [
    {
     "data": {
      "text/plain": [
       "'아 더빙 .. 진짜 짜증나네요 목소리'"
      ]
     },
     "execution_count": 39,
     "metadata": {},
     "output_type": "execute_result"
    }
   ],
   "source": [
    "pos_tagged(df.loc[0].document, tagger)"
   ]
  },
  {
   "cell_type": "markdown",
   "metadata": {},
   "source": [
    "#### train과 test에 모두 pos tag(가 아니라 tokenize)가 된 것을 만들어줍니다."
   ]
  },
  {
   "cell_type": "code",
   "execution_count": 42,
   "metadata": {},
   "outputs": [
    {
     "name": "stdout",
     "output_type": "stream",
     "text": [
      "CPU times: user 4min 12s, sys: 224 ms, total: 4min 12s\n",
      "Wall time: 4min 3s\n"
     ]
    }
   ],
   "source": [
    "%%time\n",
    "df['pos_tagged'] = df.document.apply(lambda x: pos_tagged(x, tagger))"
   ]
  },
  {
   "cell_type": "code",
   "execution_count": 99,
   "metadata": {},
   "outputs": [
    {
     "name": "stdout",
     "output_type": "stream",
     "text": [
      "CPU times: user 1min 23s, sys: 180 ms, total: 1min 23s\n",
      "Wall time: 1min 22s\n"
     ]
    }
   ],
   "source": [
    "%%time\n",
    "df_test['pos_tagged'] = df_test.document.apply(lambda x: pos_tagged(x, tagger))"
   ]
  },
  {
   "cell_type": "markdown",
   "metadata": {},
   "source": [
    "#### 웨이팅이 길었으니까 분리된걸 저장 해줍시다. 안 해주면 나중에 4분동안 울 수도 있습니다."
   ]
  },
  {
   "cell_type": "code",
   "execution_count": 44,
   "metadata": {},
   "outputs": [],
   "source": [
    "df.to_csv('train_pos.csv')"
   ]
  },
  {
   "cell_type": "code",
   "execution_count": 100,
   "metadata": {},
   "outputs": [],
   "source": [
    "df_test.to_csv('test_pos.csv')"
   ]
  },
  {
   "cell_type": "markdown",
   "metadata": {},
   "source": [
    "#### 위에서 봤다시피 토크나이징이 잘 되지 않았습니다. 일단 나중에 처리합시다. (안 할 수도 있음)"
   ]
  },
  {
   "cell_type": "code",
   "execution_count": 46,
   "metadata": {},
   "outputs": [
    {
     "data": {
      "text/html": [
       "<div>\n",
       "<style scoped>\n",
       "    .dataframe tbody tr th:only-of-type {\n",
       "        vertical-align: middle;\n",
       "    }\n",
       "\n",
       "    .dataframe tbody tr th {\n",
       "        vertical-align: top;\n",
       "    }\n",
       "\n",
       "    .dataframe thead th {\n",
       "        text-align: right;\n",
       "    }\n",
       "</style>\n",
       "<table border=\"1\" class=\"dataframe\">\n",
       "  <thead>\n",
       "    <tr style=\"text-align: right;\">\n",
       "      <th></th>\n",
       "      <th>id</th>\n",
       "      <th>document</th>\n",
       "      <th>label</th>\n",
       "      <th>pos_tagged</th>\n",
       "    </tr>\n",
       "  </thead>\n",
       "  <tbody>\n",
       "    <tr>\n",
       "      <th>0</th>\n",
       "      <td>9976970</td>\n",
       "      <td>아 더빙.. 진짜 짜증나네요 목소리</td>\n",
       "      <td>0</td>\n",
       "      <td>아 더빙 .. 진짜 짜증나네요 목소리</td>\n",
       "    </tr>\n",
       "    <tr>\n",
       "      <th>1</th>\n",
       "      <td>3819312</td>\n",
       "      <td>흠...포스터보고 초딩영화줄....오버연기조차 가볍지 않구나</td>\n",
       "      <td>1</td>\n",
       "      <td>흠 ... 포스터 보고 초딩 영화 줄 .... 오버 연기 조차 가볍지 않구나</td>\n",
       "    </tr>\n",
       "    <tr>\n",
       "      <th>2</th>\n",
       "      <td>10265843</td>\n",
       "      <td>너무재밓었다그래서보는것을추천한다</td>\n",
       "      <td>0</td>\n",
       "      <td>너 무재 밓었 다그 래서 보는것을 추천 한 다</td>\n",
       "    </tr>\n",
       "    <tr>\n",
       "      <th>3</th>\n",
       "      <td>9045019</td>\n",
       "      <td>교도소 이야기구먼 ..솔직히 재미는 없다..평점 조정</td>\n",
       "      <td>0</td>\n",
       "      <td>교도소 이야기 구먼 .. 솔직히 재미 는 없다 .. 평점 조정</td>\n",
       "    </tr>\n",
       "    <tr>\n",
       "      <th>4</th>\n",
       "      <td>6483659</td>\n",
       "      <td>사이몬페그의 익살스런 연기가 돋보였던 영화!스파이더맨에서 늙어보이기만 했던 커스틴 ...</td>\n",
       "      <td>1</td>\n",
       "      <td>사이 몬페 그 의 익살스런 연기 가 돋보였던 영화 ! 스파이더맨 에서 늙어 보이기만...</td>\n",
       "    </tr>\n",
       "  </tbody>\n",
       "</table>\n",
       "</div>"
      ],
      "text/plain": [
       "         id                                           document  label  \\\n",
       "0   9976970                                아 더빙.. 진짜 짜증나네요 목소리      0   \n",
       "1   3819312                  흠...포스터보고 초딩영화줄....오버연기조차 가볍지 않구나      1   \n",
       "2  10265843                                  너무재밓었다그래서보는것을추천한다      0   \n",
       "3   9045019                      교도소 이야기구먼 ..솔직히 재미는 없다..평점 조정      0   \n",
       "4   6483659  사이몬페그의 익살스런 연기가 돋보였던 영화!스파이더맨에서 늙어보이기만 했던 커스틴 ...      1   \n",
       "\n",
       "                                          pos_tagged  \n",
       "0                               아 더빙 .. 진짜 짜증나네요 목소리  \n",
       "1         흠 ... 포스터 보고 초딩 영화 줄 .... 오버 연기 조차 가볍지 않구나  \n",
       "2                          너 무재 밓었 다그 래서 보는것을 추천 한 다  \n",
       "3                 교도소 이야기 구먼 .. 솔직히 재미 는 없다 .. 평점 조정  \n",
       "4  사이 몬페 그 의 익살스런 연기 가 돋보였던 영화 ! 스파이더맨 에서 늙어 보이기만...  "
      ]
     },
     "execution_count": 46,
     "metadata": {},
     "output_type": "execute_result"
    }
   ],
   "source": [
    "df[:5]"
   ]
  },
  {
   "cell_type": "markdown",
   "metadata": {},
   "source": [
    "#### 토큰길이가 너무 짧은것들은 학습에 방해가 될 수도 있는데요. 토큰길이가 어떤지 좀 보죠."
   ]
  },
  {
   "cell_type": "code",
   "execution_count": 47,
   "metadata": {},
   "outputs": [],
   "source": [
    "df['token_len'] = df['pos_tagged'].apply(lambda x: len(x.split(' ')))"
   ]
  },
  {
   "cell_type": "code",
   "execution_count": 58,
   "metadata": {},
   "outputs": [
    {
     "data": {
      "text/plain": [
       "<matplotlib.axes._subplots.AxesSubplot at 0x7fe2c10ad400>"
      ]
     },
     "execution_count": 58,
     "metadata": {},
     "output_type": "execute_result"
    },
    {
     "data": {
      "image/png": "[encoded data removed]",
      "text/plain": [
       "<Figure size 1152x360 with 2 Axes>"
      ]
     },
     "metadata": {
      "needs_background": "light"
     },
     "output_type": "display_data"
    }
   ],
   "source": [
    "fig, axes = plt.subplots(1,2, figsize=(16,5))\n",
    "df['token_len'].hist(ax=axes[0], bins=50,)\n",
    "df['token_len'].hist(ax=axes[1], bins=10, range=(0,10))"
   ]
  },
  {
   "cell_type": "markdown",
   "metadata": {},
   "source": [
    "#### 아주 짧은게 그렇게 많지는 않은데요. 어떻게 생겼는지 좀 볼까요."
   ]
  },
  {
   "cell_type": "code",
   "execution_count": 61,
   "metadata": {},
   "outputs": [
    {
     "data": {
      "text/html": [
       "<div>\n",
       "<style scoped>\n",
       "    .dataframe tbody tr th:only-of-type {\n",
       "        vertical-align: middle;\n",
       "    }\n",
       "\n",
       "    .dataframe tbody tr th {\n",
       "        vertical-align: top;\n",
       "    }\n",
       "\n",
       "    .dataframe thead th {\n",
       "        text-align: right;\n",
       "    }\n",
       "</style>\n",
       "<table border=\"1\" class=\"dataframe\">\n",
       "  <thead>\n",
       "    <tr style=\"text-align: right;\">\n",
       "      <th></th>\n",
       "      <th>id</th>\n",
       "      <th>document</th>\n",
       "      <th>label</th>\n",
       "      <th>pos_tagged</th>\n",
       "      <th>token_len</th>\n",
       "    </tr>\n",
       "  </thead>\n",
       "  <tbody>\n",
       "    <tr>\n",
       "      <th>28</th>\n",
       "      <td>6091784</td>\n",
       "      <td>재밋는뎅</td>\n",
       "      <td>1</td>\n",
       "      <td>재밋는뎅</td>\n",
       "      <td>1</td>\n",
       "    </tr>\n",
       "    <tr>\n",
       "      <th>54</th>\n",
       "      <td>7207064</td>\n",
       "      <td>재미있어요</td>\n",
       "      <td>1</td>\n",
       "      <td>재미있어요</td>\n",
       "      <td>1</td>\n",
       "    </tr>\n",
       "    <tr>\n",
       "      <th>56</th>\n",
       "      <td>1651126</td>\n",
       "      <td>최고</td>\n",
       "      <td>0</td>\n",
       "      <td>최고</td>\n",
       "      <td>1</td>\n",
       "    </tr>\n",
       "    <tr>\n",
       "      <th>72</th>\n",
       "      <td>5679106</td>\n",
       "      <td>졸작</td>\n",
       "      <td>0</td>\n",
       "      <td>졸작</td>\n",
       "      <td>1</td>\n",
       "    </tr>\n",
       "    <tr>\n",
       "      <th>106</th>\n",
       "      <td>7747745</td>\n",
       "      <td>킬링타임</td>\n",
       "      <td>0</td>\n",
       "      <td>킬링타임</td>\n",
       "      <td>1</td>\n",
       "    </tr>\n",
       "    <tr>\n",
       "      <th>113</th>\n",
       "      <td>7115568</td>\n",
       "      <td>대박</td>\n",
       "      <td>1</td>\n",
       "      <td>대박</td>\n",
       "      <td>1</td>\n",
       "    </tr>\n",
       "    <tr>\n",
       "      <th>140</th>\n",
       "      <td>3685947</td>\n",
       "      <td>좋구나</td>\n",
       "      <td>1</td>\n",
       "      <td>좋구나</td>\n",
       "      <td>1</td>\n",
       "    </tr>\n",
       "    <tr>\n",
       "      <th>151</th>\n",
       "      <td>7348295</td>\n",
       "      <td>아</td>\n",
       "      <td>0</td>\n",
       "      <td>아</td>\n",
       "      <td>1</td>\n",
       "    </tr>\n",
       "    <tr>\n",
       "      <th>185</th>\n",
       "      <td>1870395</td>\n",
       "      <td>버려</td>\n",
       "      <td>0</td>\n",
       "      <td>버려</td>\n",
       "      <td>1</td>\n",
       "    </tr>\n",
       "    <tr>\n",
       "      <th>278</th>\n",
       "      <td>7124022</td>\n",
       "      <td>망함</td>\n",
       "      <td>0</td>\n",
       "      <td>망함</td>\n",
       "      <td>1</td>\n",
       "    </tr>\n",
       "  </tbody>\n",
       "</table>\n",
       "</div>"
      ],
      "text/plain": [
       "          id document  label pos_tagged  token_len\n",
       "28   6091784     재밋는뎅      1       재밋는뎅          1\n",
       "54   7207064    재미있어요      1      재미있어요          1\n",
       "56   1651126       최고      0         최고          1\n",
       "72   5679106       졸작      0         졸작          1\n",
       "106  7747745     킬링타임      0       킬링타임          1\n",
       "113  7115568       대박      1         대박          1\n",
       "140  3685947      좋구나      1        좋구나          1\n",
       "151  7348295        아      0          아          1\n",
       "185  1870395       버려      0         버려          1\n",
       "278  7124022       망함      0         망함          1"
      ]
     },
     "execution_count": 61,
     "metadata": {},
     "output_type": "execute_result"
    }
   ],
   "source": [
    "df.query(\"token_len<2\")[:10]"
   ]
  },
  {
   "cell_type": "markdown",
   "metadata": {},
   "source": [
    "#### 길이때문에 데이터를 버리는 일은 안 해도 될 것 같습니다."
   ]
  },
  {
   "cell_type": "code",
   "execution_count": 66,
   "metadata": {},
   "outputs": [
    {
     "data": {
      "text/plain": [
       "0.900    30.0\n",
       "0.950    43.0\n",
       "0.990    58.0\n",
       "0.999    66.0\n",
       "Name: token_len, dtype: float64"
      ]
     },
     "execution_count": 66,
     "metadata": {},
     "output_type": "execute_result"
    }
   ],
   "source": [
    "df['token_len'].quantile([0.9,0.95,0.99,0.999])"
   ]
  },
  {
   "cell_type": "markdown",
   "metadata": {},
   "source": [
    "#### 99% 이상의 리뷰들의 토큰길이가 60 이하입니다."
   ]
  },
  {
   "cell_type": "code",
   "execution_count": 200,
   "metadata": {},
   "outputs": [],
   "source": [
    "MAX_LENGTH = 60"
   ]
  },
  {
   "cell_type": "code",
   "execution_count": 92,
   "metadata": {},
   "outputs": [
    {
     "name": "stdout",
     "output_type": "stream",
     "text": [
      "tokens occured over 10: 12536\n",
      "tokens occured over 20: 7679\n",
      "tokens occured over 50: 3804\n"
     ]
    }
   ],
   "source": [
    "from collections import Counter\n",
    "c = Counter()\n",
    "def _tmp(x):\n",
    "    for w in x.split(' '): \n",
    "        c[w]+=1\n",
    "    return None\n",
    "df['pos_tagged'].apply(_tmp)\n",
    "for i in [10, 20, 50]:\n",
    "    print(\"tokens occured over %s: %s\" % (i, len([w for w in c if c[w]>i])))"
   ]
  },
  {
   "cell_type": "code",
   "execution_count": 201,
   "metadata": {},
   "outputs": [],
   "source": [
    "MAX_FEATURES = 5000"
   ]
  },
  {
   "cell_type": "markdown",
   "metadata": {},
   "source": [
    "# 임베딩"
   ]
  },
  {
   "cell_type": "markdown",
   "metadata": {},
   "source": [
    "이 코드를 보여주기 위해 이 문서를 작성했습니다.  \n",
    "한국어 데이터를 분석하는 노트북은 몇 개 있었는데, 워드 임베딩을 사용하는 문서가 없네요.  \n",
    "없어서 제가 만들어보았습니다 (그런데 정확도가 더 낮음...)"
   ]
  },
  {
   "cell_type": "code",
   "execution_count": 72,
   "metadata": {},
   "outputs": [],
   "source": [
    "from tensorflow.keras.preprocessing.text import Tokenizer\n",
    "from tensorflow.keras.models import Sequential"
   ]
  },
  {
   "cell_type": "markdown",
   "metadata": {},
   "source": [
    "#### 여기서 토크나이저를 만들어주고요. num_words는 상위 몇 개의 단어를 사용할거냐는 얘깁니다.\n",
    "위에서 보니까 20번~50번 이상 등장하는 단어가 한 5000개쯤 되네요. 그렇게 합시다."
   ]
  },
  {
   "cell_type": "code",
   "execution_count": 202,
   "metadata": {},
   "outputs": [],
   "source": [
    "tokenizer = Tokenizer(num_words=MAX_FEATURES)"
   ]
  },
  {
   "cell_type": "markdown",
   "metadata": {},
   "source": [
    "#### 토크나이저를 피팅해줍니다. 피팅을 해줘야 word->integer로 transform이 되겠죠."
   ]
  },
  {
   "cell_type": "code",
   "execution_count": 203,
   "metadata": {},
   "outputs": [],
   "source": [
    "tokenizer.fit_on_texts(df['pos_tagged'])"
   ]
  },
  {
   "cell_type": "markdown",
   "metadata": {},
   "source": [
    "#### 피팅 한 토크나이저를 사용해서 document를 sequence of integer로 바꿔줍니다."
   ]
  },
  {
   "cell_type": "code",
   "execution_count": 219,
   "metadata": {},
   "outputs": [],
   "source": [
    "X_train = tokenizer.texts_to_sequences(df['pos_tagged'])\n",
    "X_test = tokenizer.texts_to_sequences(df_test['pos_tagged'])"
   ]
  },
  {
   "cell_type": "markdown",
   "metadata": {},
   "source": [
    "#### 아래 코드를 참조하시면 어떻게 바뀌었는지 아시겠죠.\n",
    "'밓었'이 207번째 단어라니, 토크나이징이 하하하... 이런 건 전처리에서 처리해줄 수도 있고, 토크나이저를 바꿀 수도 있습니다. 저는 '밓'같은 건 전처리에서 처리하는 걸 선호합니다만, 일단 계속 진행합시다.  \n",
    "(만약 토크나이저를 바꾸고싶다면, konlpy말고 soynlp를 쓰는걸 고려해보세요.)"
   ]
  },
  {
   "cell_type": "code",
   "execution_count": 223,
   "metadata": {},
   "outputs": [
    {
     "data": {
      "text/plain": [
       "array([list(['아', '더빙', '..', '진짜', '짜증나네요', '목소리']),\n",
       "       list(['흠', '...', '포스터', '보고', '초딩', '영화', '줄', '....', '오버', '연기', '조차', '가볍지', '않구나']),\n",
       "       list(['너', '무재', '밓었', '다그', '래서', '보는것을', '추천', '한', '다'])],\n",
       "      dtype=object)"
      ]
     },
     "execution_count": 223,
     "metadata": {},
     "output_type": "execute_result"
    }
   ],
   "source": [
    "df['pos_tagged'][:3].apply(lambda x: x.split(' ')).values"
   ]
  },
  {
   "cell_type": "code",
   "execution_count": 220,
   "metadata": {},
   "outputs": [
    {
     "data": {
      "text/plain": [
       "[[51, 451, 18, 659],\n",
       " [910, 452, 47, 608, 2, 203, 1582, 23, 986],\n",
       " [376, 2900, 207, 13, 14]]"
      ]
     },
     "execution_count": 220,
     "metadata": {},
     "output_type": "execute_result"
    }
   ],
   "source": [
    "X_train[:3]"
   ]
  },
  {
   "cell_type": "markdown",
   "metadata": {},
   "source": [
    "#### pad_sequence\n",
    "MAX_LENGTH가 60이니까, 우리는 뉴럴넷에 길이 60의 시퀀스를 집어넣을겁니다. 그런데 길이 4짜리 시퀀스를 넣으면 안 되겠죠. 그러니까 길이를 60으로 맞춰줘야 합니다.  \n",
    "pad_sequence가 그 기능을 합니다."
   ]
  },
  {
   "cell_type": "code",
   "execution_count": 224,
   "metadata": {},
   "outputs": [
    {
     "name": "stdout",
     "output_type": "stream",
     "text": [
      "X_train shape: (149995, 60)\n",
      "X_test shape: (49997, 60)\n"
     ]
    }
   ],
   "source": [
    "X_train = tf.keras.preprocessing.sequence.pad_sequences(X_train, maxlen=MAX_LENGTH)\n",
    "X_test = tf.keras.preprocessing.sequence.pad_sequences(X_test, maxlen=MAX_LENGTH)\n",
    "print('X_train shape:', X_train.shape)\n",
    "print('X_test shape:', X_test.shape)"
   ]
  },
  {
   "cell_type": "code",
   "execution_count": 226,
   "metadata": {},
   "outputs": [
    {
     "data": {
      "text/plain": [
       "array([[   0,    0,    0,    0,    0,    0,    0,    0,    0,    0,    0,\n",
       "           0,    0,    0,    0,    0,    0,    0,    0,    0,    0,    0,\n",
       "           0,    0,    0,    0,    0,    0,    0,    0,    0,    0,    0,\n",
       "           0,    0,    0,    0,    0,    0,    0,    0,    0,    0,    0,\n",
       "           0,    0,    0,    0,    0,    0,    0,    0,    0,    0,    0,\n",
       "           0,   51,  451,   18,  659],\n",
       "       [   0,    0,    0,    0,    0,    0,    0,    0,    0,    0,    0,\n",
       "           0,    0,    0,    0,    0,    0,    0,    0,    0,    0,    0,\n",
       "           0,    0,    0,    0,    0,    0,    0,    0,    0,    0,    0,\n",
       "           0,    0,    0,    0,    0,    0,    0,    0,    0,    0,    0,\n",
       "           0,    0,    0,    0,    0,    0,    0,  910,  452,   47,  608,\n",
       "           2,  203, 1582,   23,  986]], dtype=int32)"
      ]
     },
     "execution_count": 226,
     "metadata": {},
     "output_type": "execute_result"
    }
   ],
   "source": [
    "X_train[:2]"
   ]
  },
  {
   "cell_type": "markdown",
   "metadata": {},
   "source": [
    "#### 이제 데이터가 모두 준비되었습니다. 뉴럴넷에 집어넣으면 끝!"
   ]
  },
  {
   "cell_type": "code",
   "execution_count": 205,
   "metadata": {},
   "outputs": [],
   "source": [
    "y_train = df['label']\n",
    "y_test = df_test['label']"
   ]
  },
  {
   "cell_type": "markdown",
   "metadata": {},
   "source": [
    "# Keras"
   ]
  },
  {
   "cell_type": "code",
   "execution_count": 194,
   "metadata": {},
   "outputs": [],
   "source": [
    "from tensorflow.keras.layers import Dense, Dropout, Activation, Embedding, LSTM, Flatten\n",
    "from tensorflow.keras import optimizers"
   ]
  },
  {
   "cell_type": "markdown",
   "metadata": {},
   "source": [
    "## FFN"
   ]
  },
  {
   "cell_type": "code",
   "execution_count": 206,
   "metadata": {},
   "outputs": [
    {
     "name": "stdout",
     "output_type": "stream",
     "text": [
      "Build model...\n",
      "_________________________________________________________________\n",
      "Layer (type)                 Output Shape              Param #   \n",
      "=================================================================\n",
      "embedding_26 (Embedding)     (None, 60, 100)           500000    \n",
      "_________________________________________________________________\n",
      "flatten_1 (Flatten)          (None, 6000)              0         \n",
      "_________________________________________________________________\n",
      "dense_34 (Dense)             (None, 1)                 6001      \n",
      "=================================================================\n",
      "Total params: 506,001\n",
      "Trainable params: 506,001\n",
      "Non-trainable params: 0\n",
      "_________________________________________________________________\n",
      "None\n"
     ]
    }
   ],
   "source": [
    "print('Build model...')\n",
    "model = Sequential()\n",
    "model.add(Embedding(MAX_FEATURES, 100, input_length=MAX_LENGTH))\n",
    "model.add(Flatten())\n",
    "model.add(Dense(1, activation='sigmoid'))\n",
    "\n",
    "model.compile(loss='binary_crossentropy',\n",
    "              optimizer='adam',\n",
    "              metrics=['accuracy'])\n",
    "\n",
    "print(model.summary())"
   ]
  },
  {
   "cell_type": "code",
   "execution_count": 207,
   "metadata": {
    "scrolled": false
   },
   "outputs": [
    {
     "name": "stdout",
     "output_type": "stream",
     "text": [
      "Train...\n",
      "Train on 149995 samples, validate on 49997 samples\n",
      "Epoch 1/10\n",
      " - 6s - loss: 0.5375 - acc: 0.7492 - val_loss: 0.4002 - val_acc: 0.8217\n",
      "Epoch 2/10\n",
      " - 1s - loss: 0.3619 - acc: 0.8403 - val_loss: 0.3685 - val_acc: 0.8331\n",
      "Epoch 3/10\n",
      " - 1s - loss: 0.3377 - acc: 0.8516 - val_loss: 0.3651 - val_acc: 0.8356\n",
      "Epoch 4/10\n",
      " - 1s - loss: 0.3245 - acc: 0.8576 - val_loss: 0.3676 - val_acc: 0.8339\n",
      "Epoch 5/10\n",
      " - 1s - loss: 0.3114 - acc: 0.8646 - val_loss: 0.3694 - val_acc: 0.8348\n",
      "Epoch 6/10\n",
      " - 1s - loss: 0.2975 - acc: 0.8719 - val_loss: 0.3734 - val_acc: 0.8336\n",
      "Epoch 7/10\n",
      " - 1s - loss: 0.2832 - acc: 0.8789 - val_loss: 0.3807 - val_acc: 0.8289\n",
      "Epoch 8/10\n",
      " - 1s - loss: 0.2686 - acc: 0.8862 - val_loss: 0.3887 - val_acc: 0.8284\n",
      "Epoch 9/10\n",
      " - 1s - loss: 0.2544 - acc: 0.8940 - val_loss: 0.4003 - val_acc: 0.8247\n",
      "Epoch 10/10\n",
      " - 1s - loss: 0.2410 - acc: 0.9008 - val_loss: 0.4118 - val_acc: 0.8224\n",
      "Test score: 0.4117943567903213\n",
      "Test accuracy: 0.8224293453947512\n"
     ]
    }
   ],
   "source": [
    "print('Train...')\n",
    "model.fit(X_train, y_train, batch_size=1024, epochs=10,\n",
    "          validation_data=(X_test, y_test), verbose=2)\n",
    "score, acc = model.evaluate(X_test, y_test,\n",
    "                            batch_size=1024, verbose=2)\n",
    "print('Test score:', score)\n",
    "print('Test accuracy:', acc)"
   ]
  },
  {
   "cell_type": "markdown",
   "metadata": {},
   "source": [
    "#### 안타깝게도 정확도가 85%가 안 나옵니다. 이 문서의 목적은 더 잘 예측하자는 게 아니니까 일단 넘어갑시다."
   ]
  },
  {
   "cell_type": "markdown",
   "metadata": {},
   "source": [
    "## LSTM"
   ]
  },
  {
   "cell_type": "code",
   "execution_count": 208,
   "metadata": {},
   "outputs": [
    {
     "name": "stdout",
     "output_type": "stream",
     "text": [
      "Build model...\n",
      "_________________________________________________________________\n",
      "Layer (type)                 Output Shape              Param #   \n",
      "=================================================================\n",
      "embedding_27 (Embedding)     (None, 60, 100)           500000    \n",
      "_________________________________________________________________\n",
      "lstm_29 (LSTM)               (None, 60)                38640     \n",
      "_________________________________________________________________\n",
      "dense_35 (Dense)             (None, 1)                 61        \n",
      "=================================================================\n",
      "Total params: 538,701\n",
      "Trainable params: 538,701\n",
      "Non-trainable params: 0\n",
      "_________________________________________________________________\n",
      "None\n"
     ]
    }
   ],
   "source": [
    "print('Build model...')\n",
    "model = Sequential()\n",
    "model.add(Embedding(MAX_FEATURES, 100, input_length=MAX_LENGTH))\n",
    "model.add(LSTM(60))\n",
    "model.add(Dense(1, activation='sigmoid'))\n",
    "\n",
    "model.compile(loss='binary_crossentropy',\n",
    "              optimizer=optimizers.RMSprop(lr=0.01),\n",
    "              metrics=['accuracy'])\n",
    "\n",
    "print(model.summary())"
   ]
  },
  {
   "cell_type": "code",
   "execution_count": 209,
   "metadata": {},
   "outputs": [
    {
     "name": "stdout",
     "output_type": "stream",
     "text": [
      "Train...\n",
      "Test score: 0.5466980384948681\n",
      "Test accuracy: 0.8296297777294434\n"
     ]
    }
   ],
   "source": [
    "print('Train...')\n",
    "model.fit(X_train, y_train, batch_size=1024, epochs=10,\n",
    "          validation_data=(X_test, y_test), verbose=0)\n",
    "score, acc = model.evaluate(X_test, y_test,\n",
    "                            batch_size=1024, verbose=2)\n",
    "print('Test score:', score)\n",
    "print('Test accuracy:', acc)"
   ]
  },
  {
   "cell_type": "markdown",
   "metadata": {},
   "source": [
    "## LSTM*2"
   ]
  },
  {
   "cell_type": "code",
   "execution_count": 217,
   "metadata": {},
   "outputs": [
    {
     "name": "stdout",
     "output_type": "stream",
     "text": [
      "Build model...\n",
      "_________________________________________________________________\n",
      "Layer (type)                 Output Shape              Param #   \n",
      "=================================================================\n",
      "embedding_29 (Embedding)     (None, 60, 100)           500000    \n",
      "_________________________________________________________________\n",
      "lstm_32 (LSTM)               (None, 60, 60)            38640     \n",
      "_________________________________________________________________\n",
      "lstm_33 (LSTM)               (None, 60)                29040     \n",
      "_________________________________________________________________\n",
      "dense_37 (Dense)             (None, 1)                 61        \n",
      "=================================================================\n",
      "Total params: 567,741\n",
      "Trainable params: 567,741\n",
      "Non-trainable params: 0\n",
      "_________________________________________________________________\n",
      "None\n"
     ]
    }
   ],
   "source": [
    "print('Build model...')\n",
    "model = Sequential()\n",
    "model.add(Embedding(MAX_FEATURES, 100, input_length=MAX_LENGTH))\n",
    "model.add(LSTM(60, return_sequences=True))\n",
    "model.add(LSTM(60))\n",
    "model.add(Dense(1, activation='sigmoid'))\n",
    "\n",
    "model.compile(loss='binary_crossentropy',\n",
    "              optimizer=optimizers.RMSprop(lr=0.01),\n",
    "              metrics=['accuracy'])\n",
    "\n",
    "print(model.summary())"
   ]
  },
  {
   "cell_type": "code",
   "execution_count": 218,
   "metadata": {},
   "outputs": [
    {
     "name": "stdout",
     "output_type": "stream",
     "text": [
      "Train...\n",
      "Train on 149995 samples, validate on 49997 samples\n",
      "Epoch 1/10\n",
      "149995/149995 [==============================] - 51s 339us/step - loss: 0.3971 - acc: 0.8166 - val_loss: 0.3528 - val_acc: 0.8407\n",
      "Epoch 2/10\n",
      "149995/149995 [==============================] - 43s 289us/step - loss: 0.3239 - acc: 0.8552 - val_loss: 0.3423 - val_acc: 0.8443\n",
      "Epoch 3/10\n",
      "149995/149995 [==============================] - 43s 290us/step - loss: 0.2965 - acc: 0.8685 - val_loss: 0.3468 - val_acc: 0.8418\n",
      "Epoch 4/10\n",
      "149995/149995 [==============================] - 44s 295us/step - loss: 0.2728 - acc: 0.8807 - val_loss: 0.3480 - val_acc: 0.8442\n",
      "Epoch 5/10\n",
      "149995/149995 [==============================] - 43s 289us/step - loss: 0.2486 - acc: 0.8927 - val_loss: 0.3527 - val_acc: 0.8431\n",
      "Epoch 6/10\n",
      "149995/149995 [==============================] - 43s 290us/step - loss: 0.2243 - acc: 0.9049 - val_loss: 0.3866 - val_acc: 0.8370\n",
      "Epoch 7/10\n",
      "149995/149995 [==============================] - 43s 290us/step - loss: 0.2040 - acc: 0.9140 - val_loss: 0.3967 - val_acc: 0.8381\n",
      "Epoch 8/10\n",
      "149995/149995 [==============================] - 43s 290us/step - loss: 0.1844 - acc: 0.9232 - val_loss: 0.4099 - val_acc: 0.8349\n",
      "Epoch 9/10\n",
      "149995/149995 [==============================] - 44s 290us/step - loss: 0.1695 - acc: 0.9296 - val_loss: 0.4600 - val_acc: 0.8322\n",
      "Epoch 10/10\n",
      "149995/149995 [==============================] - 43s 290us/step - loss: 0.1569 - acc: 0.9350 - val_loss: 0.4677 - val_acc: 0.8311\n",
      "Test score: 0.4677308021874362\n",
      "Test accuracy: 0.8311498689015351\n"
     ]
    }
   ],
   "source": [
    "print('Train...')\n",
    "model.fit(X_train, y_train, batch_size=512, epochs=10,\n",
    "          validation_data=(X_test, y_test), verbose=1)\n",
    "score, acc = model.evaluate(X_test, y_test,\n",
    "                            batch_size=512, verbose=2)\n",
    "print('Test score:', score)\n",
    "print('Test accuracy:', acc)"
   ]
  },
  {
   "cell_type": "code",
   "execution_count": 210,
   "metadata": {},
   "outputs": [],
   "source": [
    "def evaluate(df):\n",
    "    x = tokenizer.texts_to_sequences(df['pos_tagged'])\n",
    "    x = tf.keras.preprocessing.sequence.pad_sequences(x, maxlen=MAX_LENGTH)\n",
    "    score, acc = model.evaluate(x, df['label'],\n",
    "                            batch_size=1024, verbose=2)\n",
    "    print('Test score:', score)\n",
    "    print('Test accuracy:', acc)"
   ]
  },
  {
   "cell_type": "code",
   "execution_count": 211,
   "metadata": {},
   "outputs": [],
   "source": [
    "df_test['token_len'] = df_test['pos_tagged'].apply(lambda x: len(x.split(' ')))"
   ]
  },
  {
   "cell_type": "code",
   "execution_count": 212,
   "metadata": {
    "scrolled": true
   },
   "outputs": [
    {
     "name": "stdout",
     "output_type": "stream",
     "text": [
      "Test score: 0.572366543493087\n",
      "Test accuracy: 0.8416286091131271\n"
     ]
    }
   ],
   "source": [
    "evaluate(df_test.query('token_len>10'))"
   ]
  },
  {
   "cell_type": "markdown",
   "metadata": {},
   "source": [
    "# 일단 끝"
   ]
  },
  {
   "cell_type": "markdown",
   "metadata": {},
   "source": [
    "## 정확도를 높이기 위해\n",
    "#### 모델을 수정하면 편하겠죠.\n",
    "dropout을 하면 정확도가 높으질 수도 있습니다.  \n",
    "CNN을 쓰면 개선이 편하겠죠. 속도가 훨씬 빠르니까요.  \n",
    "#### 하지만 근본적인 해결을 위해선 역시 데이터를 더 봐야 합니다.\n",
    "punctuation을 제외했는데, 사실은 저게 성능에 큰 영향을 줄 수도 있습니다.  \n",
    "그리고 아마 토크나이징에 큰 문제가 있을겁니다. 더 잘 해봅시다.  \n",
    "2글자 이하인 리뷰들은 아예 제외해버리는것도 좋습니다.  "
   ]
  },
  {
   "cell_type": "code",
   "execution_count": null,
   "metadata": {},
   "outputs": [],
   "source": []
  }
 ],
 "metadata": {
  "kernelspec": {
   "display_name": "Python 3",
   "language": "python",
   "name": "python3"
  },
  "language_info": {
   "codemirror_mode": {
    "name": "ipython",
    "version": 3
   },
   "file_extension": ".py",
   "mimetype": "text/x-python",
   "name": "python",
   "nbconvert_exporter": "python",
   "pygments_lexer": "ipython3",
   "version": "3.6.7"
  }
 },
 "nbformat": 4,
 "nbformat_minor": 2
}
